{
 "cells": [
  {
   "cell_type": "markdown",
   "id": "6765a8f0-fb11-4b72-a14b-013271277ea7",
   "metadata": {},
   "source": [
    "## Baseline training - Models only using metadata"
   ]
  },
  {
   "cell_type": "code",
   "execution_count": 2,
   "id": "78587da1-c87f-4db0-b78e-d67b5281ff02",
   "metadata": {
    "tags": []
   },
   "outputs": [],
   "source": [
    "import pandas as pd\n",
    "import numpy as np\n",
    "from tqdm import tqdm\n",
    "from sklearn.model_selection import train_test_split\n",
    "from sklearn.ensemble import RandomForestClassifier, GradientBoostingClassifier\n",
    "from sklearn.linear_model import LogisticRegression\n",
    "from sklearn.svm import LinearSVC, SVC\n",
    "from sklearn.metrics import roc_auc_score\n",
    "from scipy.stats import mode\n",
    "from sklearn.preprocessing import StandardScaler\n",
    "from sklearn.impute import SimpleImputer, KNNImputer\n",
    "from multiprocessing import Pool\n",
    "import os\n",
    "import warnings\n",
    "\n",
    "from sklearn.metrics import roc_curve\n",
    "from confidenceinterval import roc_auc_score, accuracy_score\n",
    "\n",
    "import matplotlib.pyplot as plt\n",
    "import joblib"
   ]
  },
  {
   "cell_type": "code",
   "execution_count": 3,
   "id": "12efbc58-f382-4d4d-ae70-3a2583d055c7",
   "metadata": {
    "tags": []
   },
   "outputs": [],
   "source": [
    "############################\n",
    "## Load data\n",
    "############################\n",
    "\n",
    "df_train = pd.read_csv('path/to/training_data')\n",
    "df_val = pd.read_csv('path/to/validation_data') \n",
    "df_test = pd.read_csv('path/to/test_data')\n",
    "df_all = pd.read_csv('path/to/all_structured_features')"
   ]
  },
  {
   "cell_type": "code",
   "execution_count": 1,
   "id": "5e268b13-5ffc-4956-a463-f1ddfd09648b",
   "metadata": {
    "tags": []
   },
   "outputs": [],
   "source": [
    "# Configure everything\n",
    "ste_plus = ['has_depress', 'has_st_eleva', 'has_twave_inver', 'has_twave_abnormal'] \n",
    "groundtruth_ami = 'stent_or_cabg_010_day'\n",
    "input_spec_list = [ste_plus] \n",
    "input_spec_name = ['St elevation, T-wave inversion, ST depression, T-wave abnormal'] "
   ]
  },
  {
   "cell_type": "markdown",
   "id": "5f4a49a5-5173-443e-b1cb-86cb2ba7ce92",
   "metadata": {},
   "source": [
    "## Develop logistic regression baseline model based on ECG features"
   ]
  },
  {
   "cell_type": "code",
   "execution_count": 6,
   "id": "8208a19b-34da-4154-8d17-0769de1b861d",
   "metadata": {
    "tags": []
   },
   "outputs": [
    {
     "name": "stdout",
     "output_type": "stream",
     "text": [
      "LASSO: St elevation, T-wave inversion, ST depression, T-wave abnormal\n",
      "Test AUC Score: 0.5282750129699707 (0.4965039726284047, 0.5600460533115368)\n",
      "Test Accuracy Score: 0.6295971978984238 (0.6011982387694503, 0.657127202085731)\n"
     ]
    },
    {
     "name": "stderr",
     "output_type": "stream",
     "text": [
      "/tmp/ipykernel_346/2627198423.py:15: SettingWithCopyWarning: \n",
      "A value is trying to be set on a copy of a slice from a DataFrame.\n",
      "Try using .loc[row_indexer,col_indexer] = value instead\n",
      "\n",
      "See the caveats in the documentation: https://pandas.pydata.org/pandas-docs/stable/user_guide/indexing.html#returning-a-view-versus-a-copy\n",
      "  df_train['maxtrop_sameday'] = imputer.fit_transform(df_train[['maxtrop_sameday']])\n",
      "/opt/venv/default/lib/python3.10/site-packages/sklearn/linear_model/_logistic.py:1173: FutureWarning: `penalty='none'`has been deprecated in 1.2 and will be removed in 1.4. To keep the past behaviour, set `penalty=None`.\n",
      "  warnings.warn(\n"
     ]
    }
   ],
   "source": [
    "for variables, name in zip(input_spec_list, input_spec_name):\n",
    "    \n",
    "    print(f\"LASSO: {name}\")\n",
    "    \n",
    "    if name == 'human ECG labels + age + sex + agi + tropt (KNN imputed)' or 'human ECG labels + age + sex + tropt (KNN imputed)' or 'human ECG labels + age + sex + race + tropt (KNN imputed)':\n",
    "        # Compute the median of the 'maxtrop_sameday' column\n",
    "        median_maxtrop = df_train['maxtrop_sameday'].median()\n",
    "\n",
    "        # Replace missing values with the median\n",
    "        #imputer = SimpleImputer(strategy='median')\n",
    "        imputer = KNNImputer(n_neighbors=5) \n",
    "        df_train['maxtrop_sameday'] = imputer.fit_transform(df_train[['maxtrop_sameday']])\n",
    "        df_val['maxtrop_sameday'] = imputer.transform(df_val[['maxtrop_sameday']])\n",
    "    \n",
    "    variables_incl_y = variables + [groundtruth_ami]\n",
    "    \n",
    "    df_train_rel = df_train[variables_incl_y].dropna()\n",
    "    df_val_rel = df_test[variables_incl_y].dropna() \n",
    "\n",
    "    # Prepare the training data\n",
    "    X_train = df_train_rel[variables]\n",
    "    y_train = df_train_rel[groundtruth_ami]\n",
    "\n",
    "    # Prepare the validation data\n",
    "    X_val = df_val_rel[variables]\n",
    "    y_val = df_val_rel[groundtruth_ami]\n",
    "    \n",
    "    # Initialize the LASSO Logistic Regression classifier\n",
    "    logistic_classifier = LogisticRegression(penalty='none', solver='lbfgs', random_state=42)\n",
    "\n",
    "    # Train the model\n",
    "    logistic_classifier.fit(X_train, y_train)\n",
    "    \n",
    "    joblib.dump(logistic_classifier, \"structured_feature_logreg_acs.pkl\")\n",
    "\n",
    "    # Predict on validation set\n",
    "    y_val_pred = logistic_classifier.predict_proba(X_val)[:, 1]  # get probabilities for the positive class\n",
    "    \n",
    "    auc, ci = roc_auc_score(y_val, y_val_pred,\n",
    "                        confidence_level=0.95)\n",
    "    \n",
    "    print(f'Test AUC Score: {auc} ({ci[0]}, {ci[1]})')\n",
    "    \n",
    "    # Step 2: Calculate the optimal threshold using Youden's J statistic\n",
    "    fpr, tpr, thresholds = roc_curve(y_val, y_val_pred)\n",
    "    youden_j = tpr - fpr\n",
    "    optimal_idx = np.argmax(youden_j)\n",
    "    optimal_threshold = thresholds[optimal_idx]\n",
    "\n",
    "    # Step 3: Binarize the predictions based on the optimal threshold\n",
    "    y_val_class = (y_val_pred >= optimal_threshold).astype(int)\n",
    "    \n",
    "    acc, ci_acc = accuracy_score(y_val, y_val_class,\n",
    "                        confidence_level=0.95)\n",
    "    \n",
    "    print(f'Test Accuracy Score: {acc} ({ci_acc[0]}, {ci_acc[1]})')\n",
    "\n",
    "df_test['preds_ste_sti_twi_logist'] = y_val_pred\n",
    "df_test['binary_preds_ste_sti_twi_logist'] = y_val_class\n",
    "df_test.to_csv('test_ids_labels_with_covars_all_final.csv') #In case you aim to use this as baseline on the validation proportion of the public Nightingale dataset"
   ]
  }
 ],
 "metadata": {
  "kernelspec": {
   "display_name": "cs285_v1",
   "language": "python",
   "name": "cs285_v1"
  },
  "language_info": {
   "codemirror_mode": {
    "name": "ipython",
    "version": 3
   },
   "file_extension": ".py",
   "mimetype": "text/x-python",
   "name": "python",
   "nbconvert_exporter": "python",
   "pygments_lexer": "ipython3",
   "version": "3.7.16"
  }
 },
 "nbformat": 4,
 "nbformat_minor": 5
}
