{
 "cells": [
  {
   "cell_type": "code",
   "execution_count": 1,
   "id": "67f70865-e7b9-44ac-aecb-249f4fc51979",
   "metadata": {
    "tags": []
   },
   "outputs": [],
   "source": [
    "import pandas as pd\n",
    "import numpy as np\n",
    "from tqdm import tqdm\n",
    "from sklearn.model_selection import train_test_split\n",
    "from sklearn.metrics import roc_auc_score\n",
    "from scipy.stats import mode\n",
    "from scipy import stats\n",
    "from multiprocessing import Pool\n",
    "import neurokit2 as nk\n",
    "from biosppy.signals import ecg\n",
    "import biosppy\n",
    "import os\n",
    "\n",
    "import matplotlib.pyplot as plt"
   ]
  },
  {
   "cell_type": "markdown",
   "id": "ff07861e-1189-4020-9bd8-6935c764c4f8",
   "metadata": {},
   "source": [
    "### Some playing around"
   ]
  },
  {
   "cell_type": "code",
   "execution_count": 3,
   "id": "964ed0fd-048b-456a-91ae-20164d98177b",
   "metadata": {},
   "outputs": [],
   "source": [
    "ed_encounter = pd.read_csv('/home/ngsci/datasets/ed-bwh-ecg/v1/ed-encounter.csv')\n",
    "ecg_metadata = pd.read_csv('/home/ngsci/datasets/ed-bwh-ecg/v1/ecg-metadata.csv')\n",
    "ecg_npy = pd.read_csv('/home/ngsci/datasets/ed-bwh-ecg/v1/ecg-npy-index.csv')\n",
    "patient = pd.read_csv('/home/ngsci/datasets/ed-bwh-ecg/v1/patient.csv')\n",
    "ecg_to_ed_enc = pd.read_csv('/home/ngsci/datasets/ed-bwh-ecg/v1/ecg-ed-enc.csv')"
   ]
  },
  {
   "cell_type": "code",
   "execution_count": 4,
   "id": "40fcbb83-aa5b-444f-a8aa-9f28d389ed82",
   "metadata": {
    "tags": []
   },
   "outputs": [],
   "source": [
    "#Remove ecg string from ID\n",
    "ecg_metadata['ecg_id_new'] = ecg_metadata['ecg_id'].str[3:]\n",
    "ecg_npy['ecg_id_new'] = ecg_npy['ecg_id'].str[3:]\n",
    "ecg_to_ed_enc['ecg_id_new'] = ecg_to_ed_enc['ecg_id'].str[3:]"
   ]
  },
  {
   "cell_type": "markdown",
   "id": "422fe3a5-7015-44d3-b9b6-b19a13c72446",
   "metadata": {},
   "source": [
    "### Assess quality of guideline-based AMI labels"
   ]
  },
  {
   "cell_type": "code",
   "execution_count": 5,
   "id": "62edd9e2-5e9d-456d-8a8e-c4269f6fa4fd",
   "metadata": {
    "tags": []
   },
   "outputs": [
    {
     "name": "stdout",
     "output_type": "stream",
     "text": [
      "done\n",
      "done\n",
      "done\n"
     ]
    }
   ],
   "source": [
    "# Create dataset that has ECG metadata and testing information\n",
    "###########################################\n",
    "## Get encounter ID into the dataframe \n",
    "###########################################\n",
    "\n",
    "# Check if the columns in ecg_to_ed_enc (except 'ecg_id') are not in ecg_metadata\n",
    "ecg_to_ed_enc_new = ecg_to_ed_enc.drop('ecg_id', axis=1)\n",
    "columns_to_check = [col for col in ecg_to_ed_enc.columns if col != 'ecg_id' and col != 'ecg_id_new']\n",
    "if not any(col in ecg_metadata.columns for col in columns_to_check):\n",
    "    # Merge the DataFrames\n",
    "    merged_df = pd.merge(ecg_metadata, ecg_to_ed_enc_new, on='ecg_id_new', how='left')\n",
    "    print('done')\n",
    "else:\n",
    "    print(\"Merge not performed: Columns from ecg_to_ed_enc already exist in ecg_metadata.\")\n",
    "\n",
    "###########################################\n",
    "## Get encounter information into dataframe \n",
    "###########################################\n",
    "\n",
    "# Check if the columns in ecg_to_ed_enc (except 'ecg_id') are not in ecg_metadata\n",
    "ed_encounter_new = ed_encounter.drop('patient_ngsci_id', axis=1)\n",
    "columns_to_check = [col for col in ed_encounter.columns if col not in ['ed_enc_id','patient_ngsci_id']]\n",
    "if not any(col in merged_df.columns for col in columns_to_check):\n",
    "    # Merge the DataFrames\n",
    "    ecg_analysis_df = pd.merge(merged_df, ed_encounter_new, on='ed_enc_id', how='left')\n",
    "    print('done')\n",
    "else:\n",
    "    print(\"Merge not performed: Columns from merged_df already exist in ed_encounter.\")\n",
    "    \n",
    "###########################################\n",
    "## Get patient info into dataframe \n",
    "###########################################\n",
    "\n",
    "# Check if the columns in ecg_to_ed_enc (except 'ecg_id') are not in ecg_metadata\n",
    "columns_to_check = [col for col in patient.columns if col not in ['ed_enc_id','patient_ngsci_id']]\n",
    "if not any(col in merged_df.columns for col in columns_to_check):\n",
    "    # Merge the DataFrames\n",
    "    ecg_analysis_df = pd.merge(ecg_analysis_df, patient, on='patient_ngsci_id', how='left')\n",
    "    print('done')\n",
    "else:\n",
    "    print(\"Merge not performed: Columns from merged_df already exist in ed_encounter.\")"
   ]
  },
  {
   "cell_type": "code",
   "execution_count": 6,
   "id": "cf0a2bba-5d7a-4bc3-98b0-dcca7ed94a1b",
   "metadata": {
    "tags": []
   },
   "outputs": [],
   "source": [
    "###############################################################\n",
    "## Filter out the frail and chronically ill patients\n",
    "###############################################################\n",
    "\n",
    "ecg_analysis_df_tested = ecg_analysis_df[ecg_analysis_df['cath_010_day']==True]\n",
    "ecg_analysis_df_included_all = ecg_analysis_df[ecg_analysis_df['exclude_modeling']==False]\n",
    "ecg_analysis_df_tested_all = ecg_analysis_df_included_all[ecg_analysis_df_included_all['cath_010_day']==True]\n",
    "## Restrict sample to patients that were tested\n",
    "ecg_analysis_df_included_tested_all = ecg_analysis_df_included_all[ecg_analysis_df_included_all['cath_010_day']==True]\n",
    "ecg_analysis_df_included_untested_all = ecg_analysis_df_included_all[ecg_analysis_df_included_all['cath_010_day']==False]"
   ]
  },
  {
   "cell_type": "markdown",
   "id": "aa3835b8-482b-492e-af52-4ee073fe869f",
   "metadata": {},
   "source": [
    "## Construct Table 1 (encounter level, as dataset overview)\n",
    "\n",
    "Rationale demographics e.g. age may change between different patient encounters"
   ]
  },
  {
   "cell_type": "code",
   "execution_count": 7,
   "id": "948da201-f368-45c1-aeef-684deb18d344",
   "metadata": {
    "tags": []
   },
   "outputs": [],
   "source": [
    "ecg_ed_enc_meta = ecg_to_ed_enc.merge(ecg_metadata, on='ecg_id', how='left')\n",
    "ecg_ed_enc_meta_merge = ecg_ed_enc_meta[['ed_enc_id','has_twave_inver', 'has_depress', 'has_st_eleva','has_afib']] #'ecg_id', \n"
   ]
  },
  {
   "cell_type": "code",
   "execution_count": 8,
   "id": "d833a86a-420c-49f4-a6c5-a4325f66b4c9",
   "metadata": {
    "tags": []
   },
   "outputs": [],
   "source": [
    "encounter_w_demographic_df = (\n",
    "    ed_encounter\n",
    "    .merge(    \n",
    "        patient, \n",
    "        on='patient_ngsci_id', \n",
    "        how='left'\n",
    "    )\n",
    "    # .merge(ecg_metadata,\n",
    "    #        on='ed_enc_id',\n",
    "    #        how='left')\n",
    "    .merge(\n",
    "        ( # merge in ECG counts for each encounter\n",
    "            ecg_to_ed_enc\n",
    "            .groupby('ed_enc_id')\n",
    "            .agg(ecg_cnt=pd.NamedAgg(column=\"ecg_id\", aggfunc=\"count\"))\n",
    "            .reset_index()\n",
    "        ),\n",
    "        on='ed_enc_id',\n",
    "        how='left'\n",
    "    )\n",
    "    \n",
    ")\n",
    "\n",
    "encounter_w_demographic_df = encounter_w_demographic_df.merge(\n",
    "        ( # merge in ECG characteristics\n",
    "            ecg_ed_enc_meta_merge\n",
    "            .groupby('ed_enc_id')\n",
    "            .mean()\n",
    "            .reset_index()\n",
    "        ),\n",
    "        on='ed_enc_id',\n",
    "        how='left'\n",
    "    )"
   ]
  },
  {
   "cell_type": "code",
   "execution_count": 9,
   "id": "137cdf43-5206-418a-aa36-34e78ca4f7cb",
   "metadata": {
    "tags": []
   },
   "outputs": [],
   "source": [
    "def get_stats_for_ed_encounters(df):\n",
    "    '''Get statistics for demographics and key variables.'''\n",
    "    output = pd.Series()\n",
    "    # counts\n",
    "    enc_counts = pd.Series()\n",
    "    enc_counts.loc['Visits'] = df['ed_enc_id'].nunique()\n",
    "    enc_counts.loc['Patients'] = df['patient_ngsci_id'].nunique()\n",
    "    enc_counts.loc['ECGs'] = df['ecg_cnt'].sum().astype(int)\n",
    "    enc_counts = enc_counts.apply('{:,d}'.format)\n",
    "    output = pd.concat([output,enc_counts])\n",
    "    \n",
    "    # demographics - age\n",
    "    demographics = pd.Series()\n",
    "    age_mean = df['age_at_admit'].mean()\n",
    "    age_sem = df['age_at_admit'].sem()\n",
    "    demographics.loc['Age Mean (years)'] = f\"{age_mean:.2f} ({age_sem:.3f})\"\n",
    "    \n",
    "    # demographics - sex\n",
    "    sex_stats = df['sex'].value_counts(normalize=True, dropna=False)\n",
    "    female_pct = sex_stats.get('Female', 0)  # Use .get to avoid KeyError if 'Female' is not a category\n",
    "    female_sem = np.sqrt(female_pct * (1 - female_pct) / len(df))\n",
    "    demographics.loc['Female'] = f\"{female_pct:.3g} ({female_sem:.3f})\"\n",
    "    \n",
    "    # demographics - race\n",
    "    for race in ['black', 'hispanic', 'white', 'other']:\n",
    "        mean = df[f'race_{race}'].mean()\n",
    "        sem = df[f'race_{race}'].sem()\n",
    "        demographics.loc[race.capitalize()] = f\"{mean:.3g} ({sem:.3f})\"\n",
    "    \n",
    "    output.loc['Demographics'] = ''\n",
    "    output = pd.concat([output, demographics])\n",
    "    \n",
    "    # key variables\n",
    "    key_variables = pd.Series()\n",
    "    for var, label in [('stent_or_cabg_010_day', 'Positive Test')]:\n",
    "        mean = round(df[var].replace({True: 1, False: 0}).mean(),4)\n",
    "        sem = df[var].replace({True: 1, False: 0}).sem()\n",
    "        key_variables.loc[label] = f\"{mean:.3g} ({sem:.3f})\"\n",
    "    \n",
    "    output.loc['Outcomes'] = ''\n",
    "    output = pd.concat([output, key_variables])\n",
    "    \n",
    "    return output\n"
   ]
  },
  {
   "cell_type": "code",
   "execution_count": 10,
   "id": "541de1e2-1209-420c-9c79-c3ab15ccadee",
   "metadata": {
    "tags": []
   },
   "outputs": [
    {
     "name": "stderr",
     "output_type": "stream",
     "text": [
      "/tmp/ipykernel_495/1876661268.py:7: SettingWithCopyWarning: \n",
      "A value is trying to be set on a copy of a slice from a DataFrame.\n",
      "Try using .loc[row_indexer,col_indexer] = value instead\n",
      "\n",
      "See the caveats in the documentation: https://pandas.pydata.org/pandas-docs/stable/user_guide/indexing.html#returning-a-view-versus-a-copy\n",
      "  ecg_analysis_df_included_all['ecg_cnt'] = 1\n",
      "/tmp/ipykernel_495/1876661268.py:8: SettingWithCopyWarning: \n",
      "A value is trying to be set on a copy of a slice from a DataFrame.\n",
      "Try using .loc[row_indexer,col_indexer] = value instead\n",
      "\n",
      "See the caveats in the documentation: https://pandas.pydata.org/pandas-docs/stable/user_guide/indexing.html#returning-a-view-versus-a-copy\n",
      "  ecg_analysis_df_tested_all['ecg_cnt'] = 1\n",
      "/tmp/ipykernel_495/1876661268.py:9: SettingWithCopyWarning: \n",
      "A value is trying to be set on a copy of a slice from a DataFrame.\n",
      "Try using .loc[row_indexer,col_indexer] = value instead\n",
      "\n",
      "See the caveats in the documentation: https://pandas.pydata.org/pandas-docs/stable/user_guide/indexing.html#returning-a-view-versus-a-copy\n",
      "  ecg_analysis_df_included_untested_all['ecg_cnt'] = 1\n"
     ]
    },
    {
     "data": {
      "text/html": [
       "<div>\n",
       "<style scoped>\n",
       "    .dataframe tbody tr th:only-of-type {\n",
       "        vertical-align: middle;\n",
       "    }\n",
       "\n",
       "    .dataframe tbody tr th {\n",
       "        vertical-align: top;\n",
       "    }\n",
       "\n",
       "    .dataframe thead th {\n",
       "        text-align: right;\n",
       "    }\n",
       "</style>\n",
       "<table border=\"1\" class=\"dataframe\">\n",
       "  <thead>\n",
       "    <tr style=\"text-align: right;\">\n",
       "      <th></th>\n",
       "      <th>Total</th>\n",
       "      <th>Tested</th>\n",
       "      <th>Untested</th>\n",
       "    </tr>\n",
       "  </thead>\n",
       "  <tbody>\n",
       "    <tr>\n",
       "      <th>Visits</th>\n",
       "      <td>51,158</td>\n",
       "      <td>1,952</td>\n",
       "      <td>49,206</td>\n",
       "    </tr>\n",
       "    <tr>\n",
       "      <th>Patients</th>\n",
       "      <td>35,595</td>\n",
       "      <td>1,758</td>\n",
       "      <td>34,465</td>\n",
       "    </tr>\n",
       "    <tr>\n",
       "      <th>ECGs</th>\n",
       "      <td>73,392</td>\n",
       "      <td>3,925</td>\n",
       "      <td>69,467</td>\n",
       "    </tr>\n",
       "    <tr>\n",
       "      <th>Demographics</th>\n",
       "      <td></td>\n",
       "      <td></td>\n",
       "      <td></td>\n",
       "    </tr>\n",
       "    <tr>\n",
       "      <th>Age Mean (years)</th>\n",
       "      <td>54.91 (0.070)</td>\n",
       "      <td>63.51 (0.227)</td>\n",
       "      <td>54.43 (0.073)</td>\n",
       "    </tr>\n",
       "    <tr>\n",
       "      <th>Female</th>\n",
       "      <td>0.561 (0.002)</td>\n",
       "      <td>0.381 (0.008)</td>\n",
       "      <td>0.571 (0.002)</td>\n",
       "    </tr>\n",
       "    <tr>\n",
       "      <th>Black</th>\n",
       "      <td>0.233 (0.002)</td>\n",
       "      <td>0.145 (0.006)</td>\n",
       "      <td>0.238 (0.002)</td>\n",
       "    </tr>\n",
       "    <tr>\n",
       "      <th>Hispanic</th>\n",
       "      <td>0.165 (0.001)</td>\n",
       "      <td>0.0968 (0.005)</td>\n",
       "      <td>0.169 (0.001)</td>\n",
       "    </tr>\n",
       "    <tr>\n",
       "      <th>White</th>\n",
       "      <td>0.522 (0.002)</td>\n",
       "      <td>0.692 (0.007)</td>\n",
       "      <td>0.513 (0.002)</td>\n",
       "    </tr>\n",
       "    <tr>\n",
       "      <th>Other</th>\n",
       "      <td>0.0791 (0.001)</td>\n",
       "      <td>0.0652 (0.004)</td>\n",
       "      <td>0.0799 (0.001)</td>\n",
       "    </tr>\n",
       "    <tr>\n",
       "      <th>Outcomes</th>\n",
       "      <td></td>\n",
       "      <td></td>\n",
       "      <td></td>\n",
       "    </tr>\n",
       "    <tr>\n",
       "      <th>Positive Test</th>\n",
       "      <td>0.0207 (0.001)</td>\n",
       "      <td>0.387 (0.008)</td>\n",
       "      <td>0 (0.000)</td>\n",
       "    </tr>\n",
       "  </tbody>\n",
       "</table>\n",
       "</div>"
      ],
      "text/plain": [
       "                           Total          Tested        Untested\n",
       "Visits                    51,158           1,952          49,206\n",
       "Patients                  35,595           1,758          34,465\n",
       "ECGs                      73,392           3,925          69,467\n",
       "Demographics                                                    \n",
       "Age Mean (years)   54.91 (0.070)   63.51 (0.227)   54.43 (0.073)\n",
       "Female             0.561 (0.002)   0.381 (0.008)   0.571 (0.002)\n",
       "Black              0.233 (0.002)   0.145 (0.006)   0.238 (0.002)\n",
       "Hispanic           0.165 (0.001)  0.0968 (0.005)   0.169 (0.001)\n",
       "White              0.522 (0.002)   0.692 (0.007)   0.513 (0.002)\n",
       "Other             0.0791 (0.001)  0.0652 (0.004)  0.0799 (0.001)\n",
       "Outcomes                                                        \n",
       "Positive Test     0.0207 (0.001)   0.387 (0.008)       0 (0.000)"
      ]
     },
     "execution_count": 10,
     "metadata": {},
     "output_type": "execute_result"
    }
   ],
   "source": [
    "included_df = encounter_w_demographic_df.query('exclude_modeling == False') \n",
    "#included_df = encounter_w_demographic_df.query('exclude == False')\n",
    "tested_df = included_df.query('cath_010_day == True')\n",
    "untested_df = included_df.query('cath_010_day == False')\n",
    "\n",
    "ecg_analysis_df['ecg_cnt'] = 1\n",
    "ecg_analysis_df_included_all['ecg_cnt'] = 1\n",
    "ecg_analysis_df_tested_all['ecg_cnt'] = 1\n",
    "ecg_analysis_df_included_untested_all['ecg_cnt'] = 1\n",
    "\n",
    "column_subsets = {\n",
    "    #'All': ecg_analysis_df, #encounter_w_demographic_df,\n",
    "    'Total': ecg_analysis_df_included_all, #included_df,\n",
    "    'Tested': ecg_analysis_df_tested_all, #tested_df,\n",
    "    'Untested': ecg_analysis_df_included_untested_all #untested_df,\n",
    "}\n",
    "\n",
    "table1 = pd.DataFrame()\n",
    "for col_name, col_subset in column_subsets.items():\n",
    "    table1[col_name] = get_stats_for_ed_encounters(col_subset)\n",
    "\n",
    "table1"
   ]
  }
 ],
 "metadata": {
  "kernelspec": {
   "display_name": "Python 3 (ipykernel)",
   "language": "python",
   "name": "python3"
  },
  "language_info": {
   "codemirror_mode": {
    "name": "ipython",
    "version": 3
   },
   "file_extension": ".py",
   "mimetype": "text/x-python",
   "name": "python",
   "nbconvert_exporter": "python",
   "pygments_lexer": "ipython3",
   "version": "3.10.9"
  }
 },
 "nbformat": 4,
 "nbformat_minor": 5
}
