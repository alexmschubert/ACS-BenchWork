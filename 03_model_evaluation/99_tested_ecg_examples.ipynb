{
 "cells": [
  {
   "cell_type": "markdown",
   "id": "09e98310-a632-43da-8a3e-592e670604a8",
   "metadata": {},
   "source": [
    "## Plot Heartattack vs. no heartattack ECGs"
   ]
  },
  {
   "cell_type": "code",
   "execution_count": 1,
   "id": "95d553d9-b3c7-42a8-8a0c-27d3dabc62e0",
   "metadata": {
    "tags": []
   },
   "outputs": [],
   "source": [
    "import numpy as np\n",
    "import matplotlib.pyplot as plt\n",
    "from matplotlib.ticker import MultipleLocator\n",
    "from scipy import stats\n",
    "import pandas as pd\n",
    "import numpy as np\n",
    "from tqdm import tqdm"
   ]
  },
  {
   "cell_type": "code",
   "execution_count": 2,
   "id": "7dd5cdc5-f698-47c0-bc4d-9ae1749c56c1",
   "metadata": {
    "tags": []
   },
   "outputs": [],
   "source": [
    "test_df = pd.read_csv(\"/home/ngsci/project/NEJM_benchmark/all_ids_labels_tested_with_covars_all_final_cath.csv\")\n",
    "\n",
    "heartattack_df = test_df[test_df['stent_or_cabg_010_day']==1]\n",
    "heartattack_df_ste_std_twi = heartattack_df[((heartattack_df['has_depress']==1) | (heartattack_df['has_st_eleva']==1) | (heartattack_df['has_twave_inver']==1))]\n",
    "heartattack_df_no_ste_std_twi = heartattack_df[~((heartattack_df['has_depress']==1) | (heartattack_df['has_st_eleva']==1) | (heartattack_df['has_twave_inver']==1) | (heartattack_df['has_twave_abnormal']==1))]\n",
    "\n",
    "no_heartattack_df = test_df[test_df['stent_or_cabg_010_day']==0]\n",
    "no_heartattack_df_ste_std_twi = no_heartattack_df[((no_heartattack_df['has_depress']==1) | (no_heartattack_df['has_st_eleva']==1) | (no_heartattack_df['has_twave_inver']==1))]\n",
    "no_heartattack_df_no_ste_std_twi = no_heartattack_df[~((no_heartattack_df['has_depress']==1) | (no_heartattack_df['has_st_eleva']==1) | (no_heartattack_df['has_twave_inver']==1) | (no_heartattack_df['has_twave_abnormal']==1))]\n",
    "\n",
    "heartattack_df_ste_std_twi_ids = heartattack_df_ste_std_twi['ecg_id_new'].tolist()[10:25]\n",
    "heartattack_df_no_ste_std_twi_ids = heartattack_df_no_ste_std_twi['ecg_id_new'].tolist()[10:25]\n",
    "no_heartattack_df_ste_std_twi_ids = no_heartattack_df_ste_std_twi['ecg_id_new'].tolist()[10:25]\n",
    "no_heartattack_df_no_ste_std_twi_ids = no_heartattack_df_no_ste_std_twi['ecg_id_new'].tolist()[10:25]"
   ]
  },
  {
   "cell_type": "code",
   "execution_count": 3,
   "id": "fe56c13e-fb99-4697-a995-2225a1a9145b",
   "metadata": {
    "tags": []
   },
   "outputs": [],
   "source": [
    "def plot_leads_as_on_pdf_new(arr):\n",
    "    short_lead_arr = arr[:12]\n",
    "    short_lead_labels = ['I', 'II', 'III', 'aVR', 'aVL', 'aVF', \n",
    "                         'V1', 'V2', 'V3', 'V4', 'V5', 'V6']\n",
    "\n",
    "    fig, axs = plt.subplots(3, 1, figsize=(10, 5))\n",
    "\n",
    "    for i in range(3):\n",
    "        row_leads = short_lead_arr[i::3]\n",
    "        row_labels = short_lead_labels[i::3]\n",
    "\n",
    "        processed_leads = []\n",
    "        valid_labels = []\n",
    "\n",
    "        for lead, label in zip(row_leads, row_labels):\n",
    "            # Remove NaNs\n",
    "            lead_without_nan = lead[~np.isnan(lead)]\n",
    "            if len(lead_without_nan) == 0:\n",
    "                # No valid data in this lead, skip it\n",
    "                continue\n",
    "\n",
    "            # Baseline correction\n",
    "            mode_value = stats.mode(lead_without_nan, nan_policy='omit')[0][0]\n",
    "            lead_corrected = lead - mode_value\n",
    "            lead_corrected = np.nan_to_num(lead_corrected, nan=0)\n",
    "\n",
    "            # Remove leading/trailing zeros that represent missing data\n",
    "            nonzero_indices = np.where(lead_corrected != 0)[0]\n",
    "            if len(nonzero_indices) > 0:\n",
    "                lead_corrected = lead_corrected[nonzero_indices[0]:nonzero_indices[-1]+1]\n",
    "            else:\n",
    "                # All zeros, skip this lead\n",
    "                continue\n",
    "\n",
    "            processed_leads.append(lead_corrected)\n",
    "            valid_labels.append(label)\n",
    "\n",
    "        # Concatenate all processed leads for this row\n",
    "        if len(processed_leads) == 0:\n",
    "            # No leads to plot in this row\n",
    "            continue\n",
    "\n",
    "        concatenated = np.concatenate(processed_leads)\n",
    "        axs[i].plot(concatenated, color='black')\n",
    "\n",
    "        # Add vertical lines and annotations\n",
    "        current_pos = 0\n",
    "        for j, label in enumerate(valid_labels):\n",
    "            seg_length = len(processed_leads[j])\n",
    "            lead_midpoint = current_pos + seg_length / 2.0\n",
    "\n",
    "            # Add text annotation\n",
    "            axs[i].text(lead_midpoint, 1.2, label, color='black', \n",
    "                        ha='center', va='bottom', fontsize=10)\n",
    "\n",
    "            # Draw vertical line after each segment except the last\n",
    "            if j < len(valid_labels) - 1:\n",
    "                boundary_pos = current_pos + seg_length\n",
    "                axs[i].axvline(x=boundary_pos, color='black', linestyle='-', linewidth=1)\n",
    "\n",
    "            current_pos += seg_length\n",
    "\n",
    "        # Customize ECG-like grid\n",
    "        axs[i].set_ylim(-1.6, 1.6)\n",
    "        axs[i].xaxis.set_major_locator(MultipleLocator(100))\n",
    "        axs[i].yaxis.set_major_locator(MultipleLocator(0.5))\n",
    "\n",
    "        axs[i].xaxis.set_minor_locator(MultipleLocator(20))\n",
    "        axs[i].yaxis.set_minor_locator(MultipleLocator(0.1))\n",
    "\n",
    "        axs[i].grid(which='major', color='red', linestyle='-', linewidth=0.5)\n",
    "        axs[i].grid(which='minor', color='red', linestyle='-', linewidth=0.2)\n",
    "        axs[i].set_facecolor('white')\n",
    "\n",
    "        # Hide x-axis labels if desired\n",
    "        axs[i].tick_params(axis='x', which='major', labelbottom=False)\n",
    "        axs[i].tick_params(axis='x', which='minor', labelbottom=False)\n",
    "\n",
    "    plt.tight_layout()\n",
    "    plt.show()\n"
   ]
  },
  {
   "cell_type": "code",
   "execution_count": null,
   "id": "a057b824-8578-47c3-ba6a-5018f2aeb7e0",
   "metadata": {
    "tags": []
   },
   "outputs": [],
   "source": [
    "print('ACS with ECG feature')\n",
    "\n",
    "for id_data in heartattack_df_ste_std_twi_ids:\n",
    "    print(id_data)\n",
    "    prefix = id_data[:2]\n",
    "    id_data = id_data[:-4]\n",
    "    arr = np.load(f'/home/ngsci/datasets/ed-bwh-ecg/v1/ecg-waveforms-npz/{prefix}/{id_data}.npz') #.npz #00385e09ac.npz #00177a731b.npz\n",
    "    array_name = arr.files[0]  # Example: getting the first array name\n",
    "    data = arr[array_name]\n",
    "    plot_leads_as_on_pdf_new(data)\n",
    "    print()\n",
    "    print('#####################################################################')\n",
    "    print()"
   ]
  },
  {
   "cell_type": "code",
   "execution_count": null,
   "id": "45d9c641-80b3-44a8-ac01-b97d1cd3cdde",
   "metadata": {
    "tags": []
   },
   "outputs": [],
   "source": [
    "print('ACS without ECG feature')\n",
    "\n",
    "for id_data in heartattack_df_no_ste_std_twi_ids:\n",
    "    print(id_data)\n",
    "    prefix = id_data[:2]\n",
    "    id_data = id_data[:-4]\n",
    "    arr = np.load(f'/home/ngsci/datasets/ed-bwh-ecg/v1/ecg-waveforms-npz/{prefix}/{id_data}.npz') #.npz #00385e09ac.npz #00177a731b.npz\n",
    "    array_name = arr.files[0]  # Example: getting the first array name\n",
    "    data = arr[array_name]\n",
    "    plot_leads_as_on_pdf_new(data)\n",
    "    print()\n",
    "    print('#####################################################################')\n",
    "    print()"
   ]
  },
  {
   "cell_type": "code",
   "execution_count": null,
   "id": "ac33e78b-6c66-4dee-9081-50824a11691d",
   "metadata": {
    "tags": []
   },
   "outputs": [],
   "source": [
    "print('No ACS with ECG feature')\n",
    "\n",
    "for id_data in no_heartattack_df_ste_std_twi_ids:\n",
    "    print(id_data)\n",
    "    prefix = id_data[:2]\n",
    "    id_data = id_data[:-4]\n",
    "    arr = np.load(f'/home/ngsci/datasets/ed-bwh-ecg/v1/ecg-waveforms-npz/{prefix}/{id_data}.npz') #.npz #00385e09ac.npz #00177a731b.npz\n",
    "    array_name = arr.files[0]  # Example: getting the first array name\n",
    "    data = arr[array_name]\n",
    "    plot_leads_as_on_pdf_new(data)\n",
    "    print()\n",
    "    print('#####################################################################')\n",
    "    print()"
   ]
  },
  {
   "cell_type": "code",
   "execution_count": null,
   "id": "f34e1bf2-57dd-4a96-b1fd-de028d026276",
   "metadata": {
    "tags": []
   },
   "outputs": [],
   "source": [
    "print('No ACS without ECG feature')\n",
    "\n",
    "for id_data in no_heartattack_df_no_ste_std_twi_ids:\n",
    "    print(id_data)\n",
    "    prefix = id_data[:2]\n",
    "    id_data = id_data[:-4]\n",
    "    arr = np.load(f'/home/ngsci/datasets/ed-bwh-ecg/v1/ecg-waveforms-npz/{prefix}/{id_data}.npz') #.npz #00385e09ac.npz #00177a731b.npz\n",
    "    array_name = arr.files[0]  # Example: getting the first array name\n",
    "    data = arr[array_name]\n",
    "    plot_leads_as_on_pdf_new(data)\n",
    "    print()\n",
    "    print('#####################################################################')\n",
    "    print()"
   ]
  }
 ],
 "metadata": {
  "kernelspec": {
   "display_name": "Python 3 (ipykernel)",
   "language": "python",
   "name": "python3"
  },
  "language_info": {
   "codemirror_mode": {
    "name": "ipython",
    "version": 3
   },
   "file_extension": ".py",
   "mimetype": "text/x-python",
   "name": "python",
   "nbconvert_exporter": "python",
   "pygments_lexer": "ipython3",
   "version": "3.10.9"
  }
 },
 "nbformat": 4,
 "nbformat_minor": 5
}
